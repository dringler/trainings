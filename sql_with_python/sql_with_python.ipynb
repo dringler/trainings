{
 "cells": [
  {
   "cell_type": "markdown",
   "metadata": {},
   "source": [
    "# The Python Database API Specification\n",
    "\n",
    "PEP 249 defines the Python Database API Specification v2.0: https://www.python.org/dev/peps/pep-0249/\n",
    "\n",
    "\n",
    "# Python SQLite\n",
    "\"SQLite is a C library that provides a lightweight disk-based database that doesn’t require a separate server process and allows accessing the database using a nonstandard variant of the SQL query language. Some applications can use SQLite for internal data storage. It’s also possible to prototype an application using SQLite and then port the code to a larger database such as PostgreSQL or Oracle.\n",
    "\n",
    "The sqlite3 module was written by Gerhard Häring. It provides a SQL interface compliant with the DB-API 2.0 specification described by PEP 249.\" https://docs.python.org/3/library/sqlite3.html\n",
    "The official SQLite documentation can be found at https://www.sqlite.org/index.html.\n",
    "\n",
    "A lightweight and platform-independent GUI tool for SQLite databsaes is the *DB Browser for SQLite* that can be downloaded at https://sqlitebrowser.org/.\n",
    "\n",
    "A great tutorial of how to get started with SQLite in Python can be found at https://github.com/rasbt/python_reference/tree/master/tutorials/sqlite3_howto.\n",
    "\n",
    "## Create / connect to a SQLite database\n",
    "\n",
    "```python\n",
    "import sqlite3\n",
    "\n",
    "# DB file\n",
    "sqlite_file = 'my_db.sqlite' \n",
    "\n",
    "# connect to the DB and create a cursor object\n",
    "conn = sqlite3.connect(sqlite_file)\n",
    "c = conn.cursor()\n",
    "\n",
    "# do DB operations here...\n",
    "\n",
    "# close the connection to the DB\n",
    "conn.close()\n",
    "```\n",
    "\n",
    "https://github.com/rasbt/python_reference/tree/master/tutorials/sqlite3_howto#connecting-to-an-sqlite-database\n",
    "\n",
    "## Create new tables\n",
    "\n",
    "```python\n",
    "import sqlite3\n",
    "\n",
    "sqlite_file = 'my_db.sqlite'\n",
    "table_name1 = 'my_table_1'\n",
    "table_name2 = 'my_table_2'\n",
    "column1 = 'my_1st_column'\n",
    "field_type = 'INTEGER'\n",
    "\n",
    "# Connecting to the database file\n",
    "conn = sqlite3.connect(sqlite_file)\n",
    "c = conn.cursor()\n",
    "\n",
    "# Creating a new SQLite table with 1 column\n",
    "c.execute('CREATE TABLE {tn} ({c1} {ft})'.format(tn=table_name1, c1=column1, ft=field_type))\n",
    "\n",
    "# Creating a second table with 1 column and set it as PRIMARY KEY\n",
    "# note that PRIMARY KEY column must consist of unique values!\n",
    "c.execute('CREATE TABLE {tn} ({c1} {ft} PRIMARY KEY)'.format(tn=table_name2, c1=column1, ft=field_type))\n",
    "\n",
    "# Committing changes and closing the connection to the database file\n",
    "conn.commit()\n",
    "conn.close()\n",
    "```\n",
    "\n",
    "https://github.com/rasbt/python_reference/tree/master/tutorials/sqlite3_howto#creating-a-new-sqlite-database\n",
    "\n",
    "## Adding new columns\n",
    "\n",
    "```python\n",
    "import sqlite3\n",
    "\n",
    "sqlite_file = 'my_db.sqlite'\n",
    "table_name = 'my_table_2'\n",
    "column2 = 'my_2nd_column'\n",
    "column3 = 'my_3nd_column'\n",
    "column_type = 'TEXT'\n",
    "default_val = 'Hello World'\n",
    "\n",
    "# Connecting to the database file\n",
    "conn = sqlite3.connect(sqlite_file)\n",
    "c = conn.cursor()\n",
    "\n",
    "# A) Adding a new column without a row value\n",
    "c.execute(\"ALTER TABLE {tn} ADD COLUMN '{c2}' {ct}\".format(tn=table_name, c2=column2, ct=column_type))\n",
    "\n",
    "# B) Adding a new column with a default row value\n",
    "c.execute(\"ALTER TABLE {tn} ADD COLUMN '{c3}' {ct} DEFAULT '{df}'\".format(tn=table_name, c3=column3, ct=column_type, df=default_val))\n",
    "\n",
    "# Committing changes and closing the connection to the database file\n",
    "conn.commit()\n",
    "conn.close()\n",
    "```\n",
    "\n",
    "https://github.com/rasbt/python_reference/tree/master/tutorials/sqlite3_howto#adding-new-columns\n",
    "\n",
    "## Insert or update data\n",
    "\n",
    "```python\n",
    "import sqlite3\n",
    "\n",
    "sqlite_file = 'my_db.sqlite'\n",
    "table_name = 'my_table_2'\n",
    "column1 = 'my_1st_column'\n",
    "column2 = 'my_2nd_column'\n",
    "\n",
    "# Connecting to the database file\n",
    "conn = sqlite3.connect(sqlite_file)\n",
    "c = conn.cursor()\n",
    "\n",
    "# A) Inserts an ID with a specific value in a second column \n",
    "try:\n",
    "    c.execute(\"INSERT INTO {tn} ({c1}, {c2}) VALUES (123456, 'test')\".format(tn=table_name, c1=column1, c2=column2))\n",
    "except sqlite3.IntegrityError:\n",
    "    print('ERROR: ID already exists in PRIMARY KEY column {}'.format(column1))\n",
    "\n",
    "# B) Tries to insert an ID (if it does not exist yet)\n",
    "# with a specific value in a second column \n",
    "c.execute(\"INSERT OR IGNORE INTO {tn} ({c1}, {c2}) VALUES (123456, 'test')\".format(tn=table_name, c1=column1, c2=column2))\n",
    "\n",
    "# C) Updates the newly inserted or pre-existing entry            \n",
    "c.execute(\"UPDATE {tn} SET {c2}=('Hi World') WHERE {c1}=(123456)\".format(tn=table_name, c2=column2, c1=column1))\n",
    "\n",
    "conn.commit()\n",
    "conn.close()\n",
    "```\n",
    "\n",
    "https://github.com/rasbt/python_reference/tree/master/tutorials/sqlite3_howto#inserting-and-updating-rows\n",
    "\n",
    "## Query data\n",
    "\n",
    "```python\n",
    "import sqlite3\n",
    "\n",
    "sqlite_file = 'my_db.sqlite'\n",
    "table_name = 'my_table_2'\n",
    "column1 = 'my_1st_column'\n",
    "some_id = 123456\n",
    "column2 = 'my_2nd_column'\n",
    "\n",
    "# Connecting to the database file\n",
    "conn = sqlite3.connect(sqlite_file)\n",
    "c = conn.cursor()\n",
    "\n",
    "# 1) Contents of all columns for row that match a certain value in 1 column\n",
    "c.execute('SELECT * FROM {tn} WHERE {c2}=\"Hi World\"'.format(tn=table_name, c2=column2))\n",
    "all_rows = c.fetchall()\n",
    "print('1):', all_rows)\n",
    "\n",
    "# 2) Value of a particular column for rows that match a certain value in column2 \n",
    "c.execute('SELECT ({coi}) FROM {tn} WHERE {c2}=\"Hi World\"'.format(coi=column2, tn=table_name, c2=column2))\n",
    "all_rows = c.fetchall()\n",
    "print('2):', all_rows)\n",
    "\n",
    "# 3) Value of 2 particular columns for rows that match a certain value in 1 column\n",
    "c.execute('SELECT {c2},{c1} FROM {tn} WHERE {c2}=\"Hi World\"'.format(c2=column2, c1=column1, tn=table_name))\n",
    "all_rows = c.fetchall()\n",
    "print('3):', all_rows)\n",
    "\n",
    "# 4) Selecting only up to 10 rows that match a certain value in 1 column\n",
    "c.execute('SELECT * FROM {tn} WHERE {c2}=\"Hi World\" LIMIT 10'.format(tn=table_name, c2=column2))\n",
    "ten_rows = c.fetchall()\n",
    "print('4):', ten_rows)\n",
    "\n",
    "# 5) Check if a certain ID exists and print its column contents\n",
    "c.execute(\"SELECT * FROM {tn} WHERE {c1}={my_id}\".format(tn=table_name, c1=column1, my_id=some_id))\n",
    "id_exists = c.fetchone()\n",
    "if id_exists:\n",
    "    print('5): {}'.format(id_exists))\n",
    "else:\n",
    "    print('5): {} does not exist'.format(some_id))\n",
    "\n",
    "# Closing the connection to the database file\n",
    "conn.close()\n",
    "```\n",
    "\n",
    "https://github.com/rasbt/python_reference/tree/master/tutorials/sqlite3_howto#querying-the-database---selecting-rows\n",
    "\n",
    "## Data types in SQLite\n",
    "\n",
    "SQLite natively supports the following types: ```NULL, INTEGER, REAL, TEXT, BLOB```.\n",
    "\n",
    "Sending Python types to SQLite:\n",
    "\n",
    "| Python type | SQLite type |\n",
    "|:------------|-------------|\n",
    "| None        | NULL        |\n",
    "| int         | INTEGER     |\n",
    "| float       | REAL        |\n",
    "| str         | TEXT        |\n",
    "| bytes       | BLOB        |\n",
    "\n",
    "Converting SQLite types to Python types:\n",
    "\n",
    "| SQLite type | Python type                                         |\n",
    "|:------------|-----------------------------------------------------|\n",
    "| NULL        | None                                                |\n",
    "| INTEGER     | int                                                 |\n",
    "| REAL        | float                                               |\n",
    "| TEXT        | depends on ```test_factory```, ```str``` by default |\n",
    "| BLOB        | bytes                                               |\n",
    "\n",
    "\n",
    "https://docs.python.org/3/library/sqlite3.html#introduction\n",
    "\n",
    "https://www.sqlite.org/datatype3.html\n",
    "\n",
    "## Adapters and Converters\n",
    "\n",
    "\"The type system of the sqlite3 module is extensible in two ways: you can store additional Python types in a SQLite database via **object adaptation**, and you can let the sqlite3 module convert SQLite types to different Python types via **converters**.\" https://docs.python.org/3/library/sqlite3.html#introduction\n",
    "\n",
    "\n",
    "https://docs.python.org/3/library/sqlite3.html#using-adapters-to-store-additional-python-types-in-sqlite-databases describes how to store additional Python types in SQLite and https://docs.python.org/3/library/sqlite3.html#converting-sqlite-values-to-custom-python-types explains how to convert SQLite values to custom Python types."
   ]
  },
  {
   "cell_type": "markdown",
   "metadata": {},
   "source": [
    "# SQLite Exercise"
   ]
  },
  {
   "cell_type": "code",
   "execution_count": 26,
   "metadata": {},
   "outputs": [],
   "source": [
    "# Creating a new SQLite database\n",
    "\n",
    "import sqlite3\n",
    "conn = sqlite3.connect('my_db.sqlite')\n",
    "c = conn.cursor()"
   ]
  },
  {
   "cell_type": "code",
   "execution_count": 27,
   "metadata": {},
   "outputs": [],
   "source": [
    "table_name1 = 'my_table_1'\n",
    "table_name2 = 'my_table_2'\n",
    "column1 = 'my_1st_column'\n",
    "field_type = 'INTEGER'\n",
    "\n",
    "# Creating a new SQLite table with 1 column\n",
    "# Creating a second table with 1 column and set it as PRIMARY KEY\n",
    "# note that PRIMARY KEY column must consist of unique values!\n",
    "c.execute('CREATE TABLE {tn} ({c1} {ft} PRIMARY KEY)'.format(tn=table_name2, c1=column1, ft=field_type))\n",
    "\n",
    "# Committing changes and closing the connection to the database file\n",
    "conn.commit()\n"
   ]
  },
  {
   "cell_type": "code",
   "execution_count": 28,
   "metadata": {},
   "outputs": [],
   "source": [
    "# Adding new columns\n",
    "table_name = 'my_table_2'\n",
    "id_column = 'my_1st_column'\n",
    "column2 = 'my_2nd_column'\n",
    "column3 = 'my_3nd_column'\n",
    "column_type = 'TEXT'\n",
    "default_val = 'Hello World'\n",
    "\n",
    "# A) Adding a new column without a row value\n",
    "c.execute(\"ALTER TABLE {tn} ADD COLUMN '{c2}' {ct}\".format(tn=table_name, c2=column2, ct=column_type))\n",
    "\n",
    "# B) Adding a new column with a default row value\n",
    "c.execute(\"ALTER TABLE {tn} ADD COLUMN '{c3}' {ct} DEFAULT '{df}'\".format(tn=table_name, c3=column3, ct=column_type, df=default_val))\n",
    "\n",
    "# Committing changes and closing the connection to the database file\n",
    "conn.commit()\n"
   ]
  },
  {
   "cell_type": "code",
   "execution_count": 29,
   "metadata": {},
   "outputs": [],
   "source": [
    "# Inserting and updating rows\n",
    "table_name = 'my_table_2'\n",
    "column1 = 'my_1st_column'\n",
    "column2 = 'my_2nd_column'\n",
    "\n",
    "# A) Inserts an ID with a specific value in a second column \n",
    "try:\n",
    "    c.execute(\"INSERT INTO {tn} ({c1}, {c2}) VALUES (123456, 'test')\".format(tn=table_name, c1=column1, c2=column2))\n",
    "except sqlite3.IntegrityError:\n",
    "    print('ERROR: ID already exists in PRIMARY KEY column {}'.format(id_column))\n",
    "\n",
    "# B) Tries to insert an ID (if it does not exist yet)\n",
    "# with a specific value in a second column \n",
    "c.execute(\"INSERT OR IGNORE INTO {tn} ({c1}, {c2}) VALUES (123456, 'test')\".format(tn=table_name, c1=column1, c2=column2))\n",
    "\n",
    "# C) Updates the newly inserted or pre-existing entry            \n",
    "c.execute(\"UPDATE {tn} SET {c2}=('Hi World') WHERE {c1}=(123456)\".format(tn=table_name, c2=column2, c1=column1))\n",
    "\n",
    "conn.commit()"
   ]
  },
  {
   "cell_type": "code",
   "execution_count": 30,
   "metadata": {},
   "outputs": [],
   "source": [
    "# close the DB connection\n",
    "conn.close()"
   ]
  },
  {
   "cell_type": "markdown",
   "metadata": {},
   "source": [
    "# European Election 2019 Exercise\n",
    "* Import the \"eu2019.csv\" file into your SQLite database.\n",
    "* Check the data types. Are the data types correct? If not, change them.\n",
    "* Check the column names. Rename them to something easy to write queries for (remove whitespace, special characters etc.)\n",
    "* Are there missing values in the data? What do the missing values indicate? Think about the consequences for calculating some measures such as counting the total number of votes for a party.\n",
    "* How many different parties are part of the data? Is there a special case in the data (tip: count the number of Kreis Nr. per party)?\n",
    "* Which city district (Kreis) is the biggest and which is the smallest based on the number of votes?\n",
    "* Which party got the most number of votes in the city districts? Which district is it?\n",
    "* Filter the data for the states (Bundesländer) and get the top 3 parties based on the percentage of votes. How much are the percentages?\n",
    "* Sum the 'Gültige Stimmen %' column for\n",
    "  * Bundesrepublik Deutschland\n",
    "  * the states (Bundesländer)\n",
    "  * the city districts (Kreis) by 'Kreis Nr.' or 'Gebietsbezeichnung' columns  \n",
    "  Explain the results. Do all add up to ~100%? Why does the group by column 'Kreis Nr.' and 'Gebietsbezeichnung' produce different results for the city districts?"
   ]
  },
  {
   "cell_type": "code",
   "execution_count": 45,
   "metadata": {},
   "outputs": [
    {
     "name": "stdout",
     "output_type": "stream",
     "text": [
      "('CDU',)\n",
      "('SPD',)\n",
      "('GRÜNE',)\n",
      "('DIE LINKE',)\n",
      "('AfD',)\n",
      "('CSU',)\n",
      "('FDP',)\n",
      "('FREIE WÄHLER',)\n",
      "('PIRATEN',)\n",
      "('Tierschutzpartei',)\n",
      "('FAMILIE',)\n",
      "('ÖDP',)\n",
      "('Die PARTEI',)\n",
      "('Volt',)\n",
      "('Sonstige',)\n"
     ]
    }
   ],
   "source": [
    "conn = sqlite3.connect('my_db.sqlite')\n",
    "c = conn.cursor()\n",
    "\n",
    "#c.execute(\"SELECT COUNT(DISTINCT Partei)  FROM election\")\n",
    "c.execute(\"SELECT DISTINCT Partei  FROM election\")\n",
    "\n",
    "rows = c.fetchall()\n",
    "for row in rows:\n",
    "    print(row)\n",
    "\n",
    "conn.close()"
   ]
  },
  {
   "cell_type": "code",
   "execution_count": 46,
   "metadata": {},
   "outputs": [
    {
     "data": {
      "text/plain": [
       "15"
      ]
     },
     "execution_count": 46,
     "metadata": {},
     "output_type": "execute_result"
    }
   ],
   "source": [
    "len(rows)"
   ]
  },
  {
   "cell_type": "code",
   "execution_count": 48,
   "metadata": {},
   "outputs": [
    {
     "data": {
      "text/plain": [
       "['CDU',\n",
       " 'SPD',\n",
       " 'GRÜNE',\n",
       " 'DIE LINKE',\n",
       " 'AfD',\n",
       " 'CSU',\n",
       " 'FDP',\n",
       " 'FREIE WÄHLER',\n",
       " 'PIRATEN',\n",
       " 'Tierschutzpartei',\n",
       " 'FAMILIE',\n",
       " 'ÖDP',\n",
       " 'Die PARTEI',\n",
       " 'Volt',\n",
       " 'Sonstige']"
      ]
     },
     "execution_count": 48,
     "metadata": {},
     "output_type": "execute_result"
    }
   ],
   "source": [
    "parties = []\n",
    "\n",
    "for row in rows:\n",
    "    parties.append(row[0])\n",
    "parties\n",
    "    "
   ]
  },
  {
   "cell_type": "code",
   "execution_count": 65,
   "metadata": {},
   "outputs": [],
   "source": [
    "conn = sqlite3.connect('my_db.sqlite')\n",
    "c = conn.cursor()\n",
    "\n",
    "c.execute(\"SELECT Partei, Kreis FROM election WHERE Kreis != '';\")\n",
    "#c.execute(\"SELECT Partei, COUNT(Kreis) FROM election WHERE Kreis != '' GROUP BY Partei;\")\n",
    "\n",
    "\n",
    "rows = c.fetchall()\n",
    "\n",
    "conn.close()"
   ]
  },
  {
   "cell_type": "code",
   "execution_count": 66,
   "metadata": {},
   "outputs": [
    {
     "data": {
      "text/plain": [
       "5642"
      ]
     },
     "execution_count": 66,
     "metadata": {},
     "output_type": "execute_result"
    }
   ],
   "source": [
    "len(rows)"
   ]
  },
  {
   "cell_type": "code",
   "execution_count": 67,
   "metadata": {},
   "outputs": [
    {
     "data": {
      "text/plain": [
       "('CDU', 1001)"
      ]
     },
     "execution_count": 67,
     "metadata": {},
     "output_type": "execute_result"
    }
   ],
   "source": [
    "rows[0]"
   ]
  },
  {
   "cell_type": "code",
   "execution_count": 76,
   "metadata": {},
   "outputs": [],
   "source": [
    "kreiscount = dict()\n",
    "\n",
    "for row in rows:\n",
    "    partei = row[0]\n",
    "    kreis = row[1]\n",
    "    \n",
    "    if partei in kreiscount:\n",
    "        kreiscount[partei].append(kreis)\n",
    "    else:\n",
    "        kreiscount[partei] = [kreis]\n",
    "    \n"
   ]
  },
  {
   "cell_type": "code",
   "execution_count": 77,
   "metadata": {},
   "outputs": [
    {
     "name": "stdout",
     "output_type": "stream",
     "text": [
      "CDU: 307\n",
      "SPD: 403\n",
      "GRÜNE: 403\n",
      "DIE LINKE: 403\n",
      "AfD: 403\n",
      "CSU: 96\n",
      "FDP: 403\n",
      "FREIE WÄHLER: 403\n",
      "PIRATEN: 403\n",
      "Tierschutzpartei: 403\n",
      "FAMILIE: 403\n",
      "ÖDP: 403\n",
      "Die PARTEI: 403\n",
      "Volt: 403\n",
      "Sonstige: 403\n"
     ]
    }
   ],
   "source": [
    "for partei, kreise in kreiscount.items():\n",
    "    print(\"{}: {}\".format(partei, len(kreise)))"
   ]
  },
  {
   "cell_type": "code",
   "execution_count": 110,
   "metadata": {},
   "outputs": [
    {
     "data": {
      "text/plain": [
       "[(11000, 'Berlin, Stadt', 1355742),\n",
       " (11995, 'Berlin, West', 818050),\n",
       " (2000, 'Hamburg, Freie und Hansestadt', 758234),\n",
       " (11996, 'Berlin, Ost', 616082),\n",
       " (3241, 'Region Hannover', 474634)]"
      ]
     },
     "execution_count": 110,
     "metadata": {},
     "output_type": "execute_result"
    }
   ],
   "source": [
    "# Which city district (Kreis) is the biggest and which is the smallest based on the number of votes?\n",
    "\n",
    "conn = sqlite3.connect('my_db.sqlite')\n",
    "c = conn.cursor()\n",
    "\n",
    "#c.execute(\"SELECT Gebiet, COUNT(DISTINCT Kreis) FROM election WHERE Kreis != '' GROUP BY Gebiet ORDER BY COUNT(DISTINCT Kreis) DESC;\")\n",
    "\n",
    "c.execute(\"\"\"\n",
    "          SELECT Kreis, Gebiet, SUM(StimmenA) AS s\n",
    "          FROM election \n",
    "          WHERE Kreis != '' GROUP BY Kreis ORDER BY SUM(StimmenA) DESC LIMIT 5\n",
    "          ;\n",
    "          \"\"\")\n",
    "\n",
    "\n",
    "rows = c.fetchall()\n",
    "\n",
    "conn.close()\n",
    "\n",
    "rows"
   ]
  },
  {
   "cell_type": "code",
   "execution_count": 119,
   "metadata": {},
   "outputs": [
    {
     "data": {
      "text/plain": [
       "[(5334, 'CDU', 'Städteregion Aachen 1', 66036),\n",
       " (5334, 'AfD', 'Städteregion Aachen5', 17066),\n",
       " (5334, 'FDP', 'Städteregion Aachen 6', 14899),\n",
       " (5334, 'DIE LINKE', 'Städteregion Aachen 4', 10988),\n",
       " (5334, 'Sonstige', 'Städteregion Aachen 14', 7254),\n",
       " (5334, 'Die PARTEI', 'Städteregion Aachen 12', 6784),\n",
       " (5334, 'GRÜNE', 'Städteregion Aachen 3', 6088),\n",
       " (5334, 'SPD', 'Städteregion Aachen 2', 4913),\n",
       " (5334, 'Volt', 'Städteregion Aachen 13', 4205),\n",
       " (5334, 'Tierschutzpartei', 'Städteregion Aachen 9', 3323)]"
      ]
     },
     "execution_count": 119,
     "metadata": {},
     "output_type": "execute_result"
    }
   ],
   "source": [
    "# Which party got the most number of votes in the city districts? Which district is it?\n",
    "\n",
    "conn = sqlite3.connect('my_db.sqlite')\n",
    "c = conn.cursor()\n",
    "\n",
    "c.execute(\"\"\"\n",
    "          SELECT Kreis, Partei, group_concat(Gebiet), SUM(StimmenA) AS s\n",
    "          FROM election \n",
    "          WHERE Kreis != '' AND Gebiet LIKE '%Aachen%'\n",
    "          GROUP BY Partei, Kreis ORDER BY SUM(StimmenA) DESC LIMIT 10\n",
    "          ;\n",
    "          \"\"\")\n",
    "\n",
    "\n",
    "rows = c.fetchall()\n",
    "\n",
    "conn.close()\n",
    "\n",
    "rows"
   ]
  },
  {
   "cell_type": "code",
   "execution_count": 133,
   "metadata": {},
   "outputs": [
    {
     "data": {
      "text/plain": [
       "[('Baden-Württemberg', 'CDU', 30.8),\n",
       " ('Baden-Württemberg', 'GRÜNE', 23.3),\n",
       " ('Baden-Württemberg', 'SPD', 13.3),\n",
       " ('Baden-Württemberg', 'AfD', 10.0),\n",
       " ('Baden-Württemberg', 'FDP', 6.8),\n",
       " ('Baden-Württemberg', 'Sonstige', 3.4),\n",
       " ('Baden-Württemberg', 'FREIE WÄHLER', 3.2),\n",
       " ('Baden-Württemberg', 'DIE LINKE', 3.1),\n",
       " ('Baden-Württemberg', 'Die PARTEI', 2.0),\n",
       " ('Baden-Württemberg', 'Tierschutzpartei', 1.2),\n",
       " ('Baden-Württemberg', 'ÖDP', 1.1),\n",
       " ('Baden-Württemberg', 'Volt', 0.7),\n",
       " ('Baden-Württemberg', 'PIRATEN', 0.6),\n",
       " ('Baden-Württemberg', 'FAMILIE', 0.5),\n",
       " ('Bayern', 'CSU', 40.7),\n",
       " ('Bayern', 'GRÜNE', 19.1),\n",
       " ('Bayern', 'SPD', 9.3),\n",
       " ('Bayern', 'AfD', 8.5),\n",
       " ('Bayern', 'FREIE WÄHLER', 5.3),\n",
       " ('Bayern', 'Sonstige', 3.5),\n",
       " ('Bayern', 'FDP', 3.4),\n",
       " ('Bayern', 'ÖDP', 3.1),\n",
       " ('Bayern', 'DIE LINKE', 2.4),\n",
       " ('Bayern', 'Die PARTEI', 2.0),\n",
       " ('Bayern', 'Tierschutzpartei', 1.2),\n",
       " ('Bayern', 'Volt', 0.7),\n",
       " ('Bayern', 'PIRATEN', 0.6),\n",
       " ('Bayern', 'FAMILIE', 0.4),\n",
       " ('Berlin', 'GRÜNE', 27.8),\n",
       " ('Berlin', 'CDU', 15.2),\n",
       " ('Berlin', 'SPD', 14.0),\n",
       " ('Berlin', 'DIE LINKE', 11.9),\n",
       " ('Berlin', 'AfD', 9.9),\n",
       " ('Berlin', 'Sonstige', 5.7),\n",
       " ('Berlin', 'Die PARTEI', 4.8),\n",
       " ('Berlin', 'FDP', 4.7),\n",
       " ('Berlin', 'Tierschutzpartei', 2.0),\n",
       " ('Berlin', 'Volt', 1.2),\n",
       " ('Berlin', 'PIRATEN', 0.8),\n",
       " ('Berlin', 'FAMILIE', 0.6),\n",
       " ('Berlin', 'ÖDP', 0.6),\n",
       " ('Berlin', 'FREIE WÄHLER', 0.5),\n",
       " ('Brandenburg', 'AfD', 19.9),\n",
       " ('Brandenburg', 'CDU', 18.0),\n",
       " ('Brandenburg', 'SPD', 17.2),\n",
       " ('Brandenburg', 'GRÜNE', 12.3),\n",
       " ('Brandenburg', 'DIE LINKE', 12.3),\n",
       " ('Brandenburg', 'Sonstige', 6.0),\n",
       " ('Brandenburg', 'FDP', 4.4),\n",
       " ('Brandenburg', 'Die PARTEI', 2.4),\n",
       " ('Brandenburg', 'FREIE WÄHLER', 2.2),\n",
       " ('Brandenburg', 'Tierschutzpartei', 1.9),\n",
       " ('Brandenburg', 'FAMILIE', 1.9),\n",
       " ('Brandenburg', 'PIRATEN', 0.6),\n",
       " ('Brandenburg', 'Volt', 0.5),\n",
       " ('Brandenburg', 'ÖDP', 0.4),\n",
       " ('Bremen', 'SPD', 24.5),\n",
       " ('Bremen', 'GRÜNE', 22.7),\n",
       " ('Bremen', 'CDU', 21.9),\n",
       " ('Bremen', 'DIE LINKE', 7.9),\n",
       " ('Bremen', 'AfD', 7.7),\n",
       " ('Bremen', 'FDP', 4.7),\n",
       " ('Bremen', 'Sonstige', 3.5),\n",
       " ('Bremen', 'Die PARTEI', 3.3),\n",
       " ('Bremen', 'Tierschutzpartei', 1.1),\n",
       " ('Bremen', 'PIRATEN', 0.9),\n",
       " ('Bremen', 'Volt', 0.7),\n",
       " ('Bremen', 'FREIE WÄHLER', 0.6),\n",
       " ('Bremen', 'FAMILIE', 0.3),\n",
       " ('Bremen', 'ÖDP', 0.2),\n",
       " ('Hamburg', 'GRÜNE', 31.2),\n",
       " ('Hamburg', 'SPD', 19.8),\n",
       " ('Hamburg', 'CDU', 17.7),\n",
       " ('Hamburg', 'DIE LINKE', 7.0),\n",
       " ('Hamburg', 'AfD', 6.5),\n",
       " ('Hamburg', 'FDP', 5.6),\n",
       " ('Hamburg', 'Die PARTEI', 3.8),\n",
       " ('Hamburg', 'Sonstige', 3.8),\n",
       " ('Hamburg', 'Tierschutzpartei', 1.4),\n",
       " ('Hamburg', 'Volt', 1.2),\n",
       " ('Hamburg', 'PIRATEN', 0.8),\n",
       " ('Hamburg', 'ÖDP', 0.7),\n",
       " ('Hamburg', 'FREIE WÄHLER', 0.4),\n",
       " ('Hamburg', 'FAMILIE', 0.3),\n",
       " ('Hessen', 'CDU', 25.8),\n",
       " ('Hessen', 'GRÜNE', 23.4),\n",
       " ('Hessen', 'SPD', 18.4),\n",
       " ('Hessen', 'AfD', 9.9),\n",
       " ('Hessen', 'FDP', 6.4),\n",
       " ('Hessen', 'DIE LINKE', 4.4),\n",
       " ('Hessen', 'Sonstige', 3.5),\n",
       " ('Hessen', 'Die PARTEI', 2.5),\n",
       " ('Hessen', 'FREIE WÄHLER', 1.7),\n",
       " ('Hessen', 'Tierschutzpartei', 1.5),\n",
       " ('Hessen', 'ÖDP', 0.7),\n",
       " ('Hessen', 'Volt', 0.7),\n",
       " ('Hessen', 'PIRATEN', 0.6),\n",
       " ('Hessen', 'FAMILIE', 0.5),\n",
       " ('Mecklenburg-Vorpommern', 'CDU', 24.5),\n",
       " ('Mecklenburg-Vorpommern', 'AfD', 17.7),\n",
       " ('Mecklenburg-Vorpommern', 'SPD', 15.6),\n",
       " ('Mecklenburg-Vorpommern', 'DIE LINKE', 13.9),\n",
       " ('Mecklenburg-Vorpommern', 'GRÜNE', 10.8),\n",
       " ('Mecklenburg-Vorpommern', 'Sonstige', 5.8),\n",
       " ('Mecklenburg-Vorpommern', 'FDP', 3.9),\n",
       " ('Mecklenburg-Vorpommern', 'Die PARTEI', 2.1),\n",
       " ('Mecklenburg-Vorpommern', 'FAMILIE', 1.7),\n",
       " ('Mecklenburg-Vorpommern', 'FREIE WÄHLER', 1.4),\n",
       " ('Mecklenburg-Vorpommern', 'Tierschutzpartei', 1.4),\n",
       " ('Mecklenburg-Vorpommern', 'PIRATEN', 0.6),\n",
       " ('Mecklenburg-Vorpommern', 'Volt', 0.4),\n",
       " ('Mecklenburg-Vorpommern', 'ÖDP', 0.3),\n",
       " ('Niedersachsen', 'CDU', 29.9),\n",
       " ('Niedersachsen', 'GRÜNE', 22.6),\n",
       " ('Niedersachsen', 'SPD', 20.9),\n",
       " ('Niedersachsen', 'AfD', 7.9),\n",
       " ('Niedersachsen', 'FDP', 5.0),\n",
       " ('Niedersachsen', 'DIE LINKE', 3.8),\n",
       " ('Niedersachsen', 'Sonstige', 3.1),\n",
       " ('Niedersachsen', 'Die PARTEI', 2.4),\n",
       " ('Niedersachsen', 'Tierschutzpartei', 1.5),\n",
       " ('Niedersachsen', 'FREIE WÄHLER', 0.6),\n",
       " ('Niedersachsen', 'PIRATEN', 0.6),\n",
       " ('Niedersachsen', 'FAMILIE', 0.6),\n",
       " ('Niedersachsen', 'Volt', 0.5),\n",
       " ('Niedersachsen', 'ÖDP', 0.4),\n",
       " ('Nordrhein-Westfalen', 'CDU', 27.9),\n",
       " ('Nordrhein-Westfalen', 'GRÜNE', 23.2),\n",
       " ('Nordrhein-Westfalen', 'SPD', 19.2),\n",
       " ('Nordrhein-Westfalen', 'AfD', 8.5),\n",
       " ('Nordrhein-Westfalen', 'FDP', 6.7),\n",
       " ('Nordrhein-Westfalen', 'DIE LINKE', 4.2),\n",
       " ('Nordrhein-Westfalen', 'Sonstige', 3.2),\n",
       " ('Nordrhein-Westfalen', 'Die PARTEI', 2.3),\n",
       " ('Nordrhein-Westfalen', 'Tierschutzpartei', 1.5),\n",
       " ('Nordrhein-Westfalen', 'PIRATEN', 0.7),\n",
       " ('Nordrhein-Westfalen', 'FAMILIE', 0.7),\n",
       " ('Nordrhein-Westfalen', 'Volt', 0.7),\n",
       " ('Nordrhein-Westfalen', 'FREIE WÄHLER', 0.6),\n",
       " ('Nordrhein-Westfalen', 'ÖDP', 0.5),\n",
       " ('Rheinland-Pfalz', 'CDU', 31.3),\n",
       " ('Rheinland-Pfalz', 'SPD', 21.3),\n",
       " ('Rheinland-Pfalz', 'GRÜNE', 16.7),\n",
       " ('Rheinland-Pfalz', 'AfD', 9.8),\n",
       " ('Rheinland-Pfalz', 'FDP', 5.8),\n",
       " ('Rheinland-Pfalz', 'DIE LINKE', 3.1),\n",
       " ('Rheinland-Pfalz', 'Sonstige', 3.1),\n",
       " ('Rheinland-Pfalz', 'FREIE WÄHLER', 2.9),\n",
       " ('Rheinland-Pfalz', 'Die PARTEI', 2.1),\n",
       " ('Rheinland-Pfalz', 'Tierschutzpartei', 1.5),\n",
       " ('Rheinland-Pfalz', 'PIRATEN', 0.6),\n",
       " ('Rheinland-Pfalz', 'FAMILIE', 0.6),\n",
       " ('Rheinland-Pfalz', 'ÖDP', 0.6),\n",
       " ('Rheinland-Pfalz', 'Volt', 0.6),\n",
       " ('Saarland', 'CDU', 32.5),\n",
       " ('Saarland', 'SPD', 23.1),\n",
       " ('Saarland', 'GRÜNE', 13.2),\n",
       " ('Saarland', 'AfD', 9.6),\n",
       " ('Saarland', 'DIE LINKE', 6.0),\n",
       " ('Saarland', 'FDP', 3.7),\n",
       " ('Saarland', 'Sonstige', 3.4),\n",
       " ('Saarland', 'Die PARTEI', 2.5),\n",
       " ('Saarland', 'Tierschutzpartei', 2.0),\n",
       " ('Saarland', 'FAMILIE', 1.3),\n",
       " ('Saarland', 'FREIE WÄHLER', 1.1),\n",
       " ('Saarland', 'PIRATEN', 0.7),\n",
       " ('Saarland', 'ÖDP', 0.5),\n",
       " ('Saarland', 'Volt', 0.4),\n",
       " ('Sachsen', 'AfD', 25.3),\n",
       " ('Sachsen', 'CDU', 23.0),\n",
       " ('Sachsen', 'DIE LINKE', 11.7),\n",
       " ('Sachsen', 'GRÜNE', 10.3),\n",
       " ('Sachsen', 'SPD', 8.6),\n",
       " ('Sachsen', 'Sonstige', 5.8),\n",
       " ('Sachsen', 'FDP', 4.7),\n",
       " ('Sachsen', 'FREIE WÄHLER', 2.9),\n",
       " ('Sachsen', 'Die PARTEI', 2.9),\n",
       " ('Sachsen', 'Tierschutzpartei', 1.5),\n",
       " ('Sachsen', 'FAMILIE', 1.4),\n",
       " ('Sachsen', 'ÖDP', 0.7),\n",
       " ('Sachsen', 'PIRATEN', 0.6),\n",
       " ('Sachsen', 'Volt', 0.6),\n",
       " ('Sachsen-Anhalt', 'CDU', 23.2),\n",
       " ('Sachsen-Anhalt', 'AfD', 20.4),\n",
       " ('Sachsen-Anhalt', 'DIE LINKE', 14.4),\n",
       " ('Sachsen-Anhalt', 'SPD', 12.5),\n",
       " ('Sachsen-Anhalt', 'GRÜNE', 9.2),\n",
       " ('Sachsen-Anhalt', 'Sonstige', 6.7),\n",
       " ('Sachsen-Anhalt', 'FDP', 4.9),\n",
       " ('Sachsen-Anhalt', 'Die PARTEI', 2.3),\n",
       " ('Sachsen-Anhalt', 'FREIE WÄHLER', 1.7),\n",
       " ('Sachsen-Anhalt', 'Tierschutzpartei', 1.7),\n",
       " ('Sachsen-Anhalt', 'FAMILIE', 1.7),\n",
       " ('Sachsen-Anhalt', 'PIRATEN', 0.5),\n",
       " ('Sachsen-Anhalt', 'Volt', 0.5),\n",
       " ('Sachsen-Anhalt', 'ÖDP', 0.3),\n",
       " ('Schleswig-Holstein', 'GRÜNE', 29.1),\n",
       " ('Schleswig-Holstein', 'CDU', 26.2),\n",
       " ('Schleswig-Holstein', 'SPD', 17.1),\n",
       " ('Schleswig-Holstein', 'AfD', 7.4),\n",
       " ('Schleswig-Holstein', 'FDP', 5.9),\n",
       " ('Schleswig-Holstein', 'DIE LINKE', 3.7),\n",
       " ('Schleswig-Holstein', 'Sonstige', 3.0),\n",
       " ('Schleswig-Holstein', 'Die PARTEI', 2.3),\n",
       " ('Schleswig-Holstein', 'Tierschutzpartei', 1.5),\n",
       " ('Schleswig-Holstein', 'FREIE WÄHLER', 0.9),\n",
       " ('Schleswig-Holstein', 'PIRATEN', 0.9),\n",
       " ('Schleswig-Holstein', 'FAMILIE', 0.9),\n",
       " ('Schleswig-Holstein', 'Volt', 0.6),\n",
       " ('Schleswig-Holstein', 'ÖDP', 0.4),\n",
       " ('Thüringen', 'CDU', 24.7),\n",
       " ('Thüringen', 'AfD', 22.5),\n",
       " ('Thüringen', 'DIE LINKE', 13.8),\n",
       " ('Thüringen', 'SPD', 11.0),\n",
       " ('Thüringen', 'GRÜNE', 8.6),\n",
       " ('Thüringen', 'Sonstige', 5.8),\n",
       " ('Thüringen', 'FDP', 4.4),\n",
       " ('Thüringen', 'FREIE WÄHLER', 2.4),\n",
       " ('Thüringen', 'Die PARTEI', 2.4),\n",
       " ('Thüringen', 'FAMILIE', 1.5),\n",
       " ('Thüringen', 'Tierschutzpartei', 1.4),\n",
       " ('Thüringen', 'PIRATEN', 0.6),\n",
       " ('Thüringen', 'ÖDP', 0.5),\n",
       " ('Thüringen', 'Volt', 0.4)]"
      ]
     },
     "execution_count": 133,
     "metadata": {},
     "output_type": "execute_result"
    }
   ],
   "source": [
    "# Filter the data for the states (Bundesländer) and get the top 3 parties based on the percentage of votes. How much are the percentages?\n",
    "\n",
    "conn = sqlite3.connect('my_db.sqlite')\n",
    "c = conn.cursor()\n",
    "\n",
    "c.execute(\"\"\"\n",
    "          SELECT Gebiet, Partei, StimmenP\n",
    "          FROM election \n",
    "          WHERE Kreis = '' AND Gebiet != 'Bundesrepublik Deutschland'\n",
    "          ORDER BY Gebiet, StimmenP DESC;\n",
    "          \"\"\")\n",
    "\n",
    "\n",
    "rows = c.fetchall()\n",
    "\n",
    "conn.close()\n",
    "\n",
    "rows\n"
   ]
  },
  {
   "cell_type": "code",
   "execution_count": 151,
   "metadata": {},
   "outputs": [
    {
     "name": "stdout",
     "output_type": "stream",
     "text": [
      "('Baden-Württemberg', 'CDU', 30.8)\n",
      "('Baden-Württemberg', 'GRÜNE', 23.3)\n",
      "('Baden-Württemberg', 'SPD', 13.3)\n",
      "('Bayern', 'CSU', 40.7)\n",
      "('Bayern', 'GRÜNE', 19.1)\n",
      "('Bayern', 'SPD', 9.3)\n",
      "('Berlin', 'GRÜNE', 27.8)\n",
      "('Berlin', 'CDU', 15.2)\n",
      "('Berlin', 'SPD', 14.0)\n",
      "('Brandenburg', 'AfD', 19.9)\n",
      "('Brandenburg', 'CDU', 18.0)\n",
      "('Brandenburg', 'SPD', 17.2)\n",
      "('Bremen', 'SPD', 24.5)\n",
      "('Bremen', 'GRÜNE', 22.7)\n",
      "('Bremen', 'CDU', 21.9)\n",
      "('Hamburg', 'GRÜNE', 31.2)\n",
      "('Hamburg', 'SPD', 19.8)\n",
      "('Hamburg', 'CDU', 17.7)\n",
      "('Hessen', 'CDU', 25.8)\n",
      "('Hessen', 'GRÜNE', 23.4)\n",
      "('Hessen', 'SPD', 18.4)\n",
      "('Mecklenburg-Vorpommern', 'CDU', 24.5)\n",
      "('Mecklenburg-Vorpommern', 'AfD', 17.7)\n",
      "('Mecklenburg-Vorpommern', 'SPD', 15.6)\n",
      "('Niedersachsen', 'CDU', 29.9)\n",
      "('Niedersachsen', 'GRÜNE', 22.6)\n",
      "('Niedersachsen', 'SPD', 20.9)\n",
      "('Nordrhein-Westfalen', 'CDU', 27.9)\n",
      "('Nordrhein-Westfalen', 'GRÜNE', 23.2)\n",
      "('Nordrhein-Westfalen', 'SPD', 19.2)\n",
      "('Rheinland-Pfalz', 'CDU', 31.3)\n",
      "('Rheinland-Pfalz', 'SPD', 21.3)\n",
      "('Rheinland-Pfalz', 'GRÜNE', 16.7)\n",
      "('Saarland', 'CDU', 32.5)\n",
      "('Saarland', 'SPD', 23.1)\n",
      "('Saarland', 'GRÜNE', 13.2)\n",
      "('Sachsen', 'AfD', 25.3)\n",
      "('Sachsen', 'CDU', 23.0)\n",
      "('Sachsen', 'DIE LINKE', 11.7)\n",
      "('Sachsen-Anhalt', 'CDU', 23.2)\n",
      "('Sachsen-Anhalt', 'AfD', 20.4)\n",
      "('Sachsen-Anhalt', 'DIE LINKE', 14.4)\n",
      "('Schleswig-Holstein', 'GRÜNE', 29.1)\n",
      "('Schleswig-Holstein', 'CDU', 26.2)\n",
      "('Schleswig-Holstein', 'SPD', 17.1)\n",
      "('Thüringen', 'CDU', 24.7)\n",
      "('Thüringen', 'AfD', 22.5)\n",
      "('Thüringen', 'DIE LINKE', 13.8)\n"
     ]
    }
   ],
   "source": [
    "seen_states = []\n",
    "counter = 0\n",
    "\n",
    "for row in rows:\n",
    "    state = row[0]\n",
    "    partei = row[1]\n",
    "    votes = row[2]\n",
    "    \n",
    "    if state in seen_states:\n",
    "        if counter < 3:\n",
    "            print(row)\n",
    "\n",
    "\n",
    "    else:\n",
    "        seen_states.append(state)\n",
    "        print(row)\n",
    "        counter = 0\n",
    "    counter += 1\n"
   ]
  },
  {
   "cell_type": "markdown",
   "metadata": {},
   "source": [
    "# Python and MySQL (MySQLdb)\n",
    "\n",
    "\"MySQLdb is an interface for connecting to a MySQL database server from Python. It implements the Python Database API v2.0 and is built on top of the MySQL C API.\"\n",
    "\n",
    "https://www.tutorialspoint.com/python/python_database_access.htm\n",
    "\n",
    "# Python and Oracle\n",
    "\n",
    "A turorial of how to use Python With Oracle Database 11g can be found at https://www.oracle.com/webfolder/technetwork/tutorials/obe/db/OOW11/python_db/python_db.htm.\n",
    "\n",
    "# Python and ODBC\n",
    "\n",
    "\"In computing, Open Database Connectivity (ODBC) is a standard application programming interface (API) for accessing database management systems (DBMS). The designers of ODBC aimed to make it independent of database systems and operating systems. An application written using ODBC can be ported to other platforms, both on the client and server side, with few changes to the data access code.\" https://en.wikipedia.org/wiki/Open_Database_Connectivity\n",
    "\n",
    "\"pyodbc is an open source Python module that makes accessing ODBC databases simple. It implements the DB API 2.0 specification but is packed with even more Pythonic convenience.\" https://github.com/mkleehammer/pyodbc\n",
    "\n",
    "The wiki at https://github.com/mkleehammer/pyodbc/wiki provides documentation for using pyodbc.\n",
    "\n",
    "# Python Object Databases (ZODB-Zope Object Database) \n",
    "\n",
    "An introduction to ZODB can be found at http://www.zodb.org/en/latest/articles/ZODB1.html.\n",
    "\n",
    "## Install ZODB\n",
    "A tutorial of how to install ZODB can be found at http://www.zodb.org/en/latest/tutorial.html#installation.\n",
    "\n",
    "```bash\n",
    "$ conda install zodb```\n",
    "\n",
    "## ACID standards in ZODB\n",
    "* **Atomicity:** \"means that any changes to data made during a transaction are all-or-nothing. Either all the changes are applied, or none of them are. If a program makes a bunch of modifications and then crashes, the database won’t be partially modified, potentially leaving the data in an inconsistent state; instead all the changes will be forgotten. That’s bad, but it’s better than having a partially- applied modification put the database into an inconsistent state.\"\n",
    "* **Consistency:** \"means that each transaction executes a valid transformation of the database state. Some databases, but not ZODB, provide a variety of consistency checks in the database or language; for example, a relational database constraint columns to be of particular types and can enforce relations across tables. Viewed more generally, atomicity and isolation make it possible for applications to provide consistency.\"\n",
    "* **Isolation:** \"means that two programs or threads running in two different transactions cannot see each other’s changes until they commit their transactions.\"\n",
    "* **Durability:** \"means that once a transaction has been committed, a subsequent crash will not cause any data to be lost or corrupted.\"\n",
    "\n",
    "http://www.zodb.org/en/latest/articles/old-guide/prog-zodb.html\n",
    "\n",
    "\n",
    "## Getting started with ZODB\n",
    "A tutorial of how to get started with ZODB and understanding the main concepts can be found at http://www.zodb.org/en/latest/tutorial.html#tutorial-label.\n",
    "\n",
    "\n",
    "create storage and use the ‘mydatabse.fs’ file to store the object information. Then, you create a database that uses that storage.\n",
    "\n",
    "Next, the database needs to be “opened” by calling the ‘open()’ method. This will return a connection object to the database. The connection object then gives you access to the ‘root’ of the database with the ‘root()’ method.\n",
    "\n",
    "The ‘root’ object is the dictionary that holds all of your persistent objects. For example, you can store a simple list of strings in the root object:\n",
    "\n",
    "```python\n",
    "from ZODB import FileStorage, DB\n",
    "# create storage\n",
    "storage = FileStorage.FileStorage('mydatabase.fs')\n",
    "# create a database using the storage\n",
    "db = DB(storage)\n",
    "# connect to the database\n",
    "connection = db.open()\n",
    "# access the root object\n",
    "root = connection.root()\n",
    "```\n",
    "\n",
    "```python\n",
    "# store a list of strings in the root object \n",
    "root['employees'] = ['Mary', 'Jo', 'Bob']\n",
    "```\n",
    "\n",
    "```python\n",
    "import transaction\n",
    "# commit the transaction\n",
    "transaction.commit()\n",
    "```\n",
    "\n",
    "```python\n",
    "# access the items of the root object\n",
    "root.items()\n",
    "[('employees', ['Mary', 'Jo', 'Bob'])]\n",
    "```\n",
    "\n",
    "```python\n",
    "# close the connection\n",
    "connection.close()\n",
    "```\n",
    "\n",
    "\n",
    "## Rules of Persistence\n",
    "\"When implementing persistent objects, be aware that an object’s attributes should be :\n",
    "* immutable (such as strings or integers),\n",
    "* persistent (subclass Persistent), or\n",
    "* You need to take special precautions.\"\n",
    "\n",
    "http://www.zodb.org/en/latest/guide/writing-persistent-objects.html#rules-of-persistence"
   ]
  },
  {
   "cell_type": "markdown",
   "metadata": {},
   "source": [
    "# ZODB Exercise"
   ]
  },
  {
   "cell_type": "code",
   "execution_count": 1,
   "metadata": {},
   "outputs": [],
   "source": [
    "from ZODB import FileStorage, DB\n",
    "# create storage\n",
    "storage = FileStorage.FileStorage('mydatabase.fs')\n",
    "# create a database using the storage\n",
    "db = DB(storage)\n",
    "# connect to the database\n",
    "connection = db.open()\n",
    "# access the root object\n",
    "root = connection.root()"
   ]
  },
  {
   "cell_type": "code",
   "execution_count": 2,
   "metadata": {},
   "outputs": [],
   "source": [
    "# store a list of strings in the root object \n",
    "root['employees'] = ['Mary', 'Jo', 'Bob']"
   ]
  },
  {
   "cell_type": "code",
   "execution_count": 3,
   "metadata": {},
   "outputs": [],
   "source": [
    "import transaction\n",
    "# commit the transaction\n",
    "transaction.commit()"
   ]
  },
  {
   "cell_type": "code",
   "execution_count": 4,
   "metadata": {},
   "outputs": [
    {
     "data": {
      "text/plain": [
       "[('employees', ['Mary', 'Jo', 'Bob'])]"
      ]
     },
     "execution_count": 4,
     "metadata": {},
     "output_type": "execute_result"
    }
   ],
   "source": [
    "# access the items of the root object\n",
    "root.items()\n",
    "[('employees', ['Mary', 'Jo', 'Bob'])]"
   ]
  },
  {
   "cell_type": "code",
   "execution_count": 5,
   "metadata": {},
   "outputs": [],
   "source": [
    "# close the connection\n",
    "connection.close()"
   ]
  },
  {
   "cell_type": "markdown",
   "metadata": {},
   "source": [
    "Create an hierachy of animals like the following\n",
    "\n",
    "* animals\n",
    "  * dogs\n",
    "    * Pug\n",
    "    * Terrier\n",
    "    * Spaniel\n",
    "  * cats\n",
    "    * Persian\n",
    "    * Siamese\n",
    "  * birds\n",
    "    * Parrot\n",
    "    * Canaries\n",
    "    "
   ]
  },
  {
   "cell_type": "code",
   "execution_count": 3,
   "metadata": {},
   "outputs": [],
   "source": [
    "from ZODB import FileStorage, DB\n",
    "import transaction\n",
    "\n",
    "# create storage\n",
    "storage = FileStorage.FileStorage('mydatabase.fs')\n",
    "# create a database using the storage\n",
    "db = DB(storage)\n",
    "# connect to the database\n",
    "connection = db.open()"
   ]
  },
  {
   "cell_type": "code",
   "execution_count": 4,
   "metadata": {},
   "outputs": [],
   "source": [
    "# access the root object\n",
    "root = connection.root()\n",
    "\n",
    "#print(root.items())\n",
    "# commit the transaction\n",
    "#transaction.commit()"
   ]
  },
  {
   "cell_type": "code",
   "execution_count": 5,
   "metadata": {},
   "outputs": [
    {
     "data": {
      "text/plain": [
       "ItemsView({})"
      ]
     },
     "execution_count": 5,
     "metadata": {},
     "output_type": "execute_result"
    }
   ],
   "source": [
    "root.items()"
   ]
  },
  {
   "cell_type": "code",
   "execution_count": 9,
   "metadata": {},
   "outputs": [],
   "source": [
    "root['animals'] = {'dogs': ['Pug', 'Terrier', 'Spaniel'], 'cats': ['Persian', 'Siamese'], 'birds': ['Parrot', 'Canaries']}"
   ]
  },
  {
   "cell_type": "code",
   "execution_count": 10,
   "metadata": {},
   "outputs": [],
   "source": [
    "transaction.commit()\n"
   ]
  },
  {
   "cell_type": "code",
   "execution_count": 11,
   "metadata": {},
   "outputs": [
    {
     "data": {
      "text/plain": [
       "ItemsView({'animals': {'dogs': ['Pug', 'Terrier', 'Spaniel'], 'cats': ['Persian', 'Siamese'], 'birds': ['Parrot', 'Canaries']}})"
      ]
     },
     "execution_count": 11,
     "metadata": {},
     "output_type": "execute_result"
    }
   ],
   "source": [
    "root.items()\n"
   ]
  },
  {
   "cell_type": "code",
   "execution_count": 12,
   "metadata": {},
   "outputs": [],
   "source": [
    "# close the connection\n",
    "connection.close()"
   ]
  },
  {
   "cell_type": "markdown",
   "metadata": {},
   "source": [
    "# SQLAlchemy\n",
    "\"SQLAlchemy is the Python SQL toolkit and Object Relational Mapper that gives application developers the full power and flexibility of SQL.\n",
    "\n",
    "It provides a full suite of well known enterprise-level persistence patterns, designed for efficient and high-performing database access, adapted into a simple and Pythonic domain language.\"\n",
    "\n",
    "* Python SQL Toolkit (Core): pythonic way to generate SQL queries\n",
    "* Object Relational Mapper (ORM): DB relations as Python objects\n",
    "\n",
    "\n",
    "https://www.sqlalchemy.org/\n",
    "\n",
    "```bash\n",
    "$ conda install sqlalchemy\n",
    "```"
   ]
  },
  {
   "cell_type": "code",
   "execution_count": 13,
   "metadata": {},
   "outputs": [
    {
     "data": {
      "text/plain": [
       "'1.3.4'"
      ]
     },
     "execution_count": 13,
     "metadata": {},
     "output_type": "execute_result"
    }
   ],
   "source": [
    "import sqlalchemy\n",
    "sqlalchemy.__version__"
   ]
  },
  {
   "cell_type": "markdown",
   "metadata": {},
   "source": [
    "## SQLAlchemy Core Example"
   ]
  },
  {
   "cell_type": "code",
   "execution_count": 14,
   "metadata": {},
   "outputs": [],
   "source": [
    "from sqlalchemy import create_engine\n",
    "\n",
    "engine = create_engine('sqlite://')"
   ]
  },
  {
   "cell_type": "code",
   "execution_count": 15,
   "metadata": {},
   "outputs": [],
   "source": [
    "from sqlalchemy import Column, Integer, Text, MetaData, Table\n",
    "\n",
    "metadata = MetaData()\n",
    "messages = Table(\n",
    "    'messages', metadata,\n",
    "    Column('id', Integer, primary_key=True),\n",
    "    Column('message', Text),\n",
    ")\n",
    "\n",
    "messages.create(bind=engine)\n",
    " "
   ]
  },
  {
   "cell_type": "code",
   "execution_count": 16,
   "metadata": {},
   "outputs": [
    {
     "data": {
      "text/plain": [
       "<sqlalchemy.engine.result.ResultProxy at 0x7fe7b41ec630>"
      ]
     },
     "execution_count": 16,
     "metadata": {},
     "output_type": "execute_result"
    }
   ],
   "source": [
    "insert_message = messages.insert().values(message='Hello, World!')\n",
    "engine.execute(insert_message)"
   ]
  },
  {
   "cell_type": "code",
   "execution_count": 17,
   "metadata": {},
   "outputs": [
    {
     "name": "stdout",
     "output_type": "stream",
     "text": [
      "Hello, World!\n"
     ]
    }
   ],
   "source": [
    "from sqlalchemy import select\n",
    "stmt = select([messages.c.message]) \n",
    "message, = engine.execute(stmt).fetchone()\n",
    "print(message)\n",
    " "
   ]
  },
  {
   "cell_type": "markdown",
   "metadata": {},
   "source": [
    "## SQLAlchemy ORM Example"
   ]
  },
  {
   "cell_type": "code",
   "execution_count": 14,
   "metadata": {},
   "outputs": [],
   "source": [
    "from sqlalchemy import create_engine\n",
    "\n",
    "engine = create_engine('sqlite://')\n",
    " "
   ]
  },
  {
   "cell_type": "code",
   "execution_count": 15,
   "metadata": {},
   "outputs": [],
   "source": [
    "from sqlalchemy.ext.declarative import declarative_base\n",
    "# define declarative to map classes and tables\n",
    "Base = declarative_base()"
   ]
  },
  {
   "cell_type": "code",
   "execution_count": 16,
   "metadata": {},
   "outputs": [],
   "source": [
    "from sqlalchemy import Column, Integer, String\n",
    "\n",
    "class Message(Base):\n",
    "    __tablename__ = 'messages'\n",
    "    \n",
    "    id = Column(Integer, primary_key=True)\n",
    "    message = Column(String)\n",
    " "
   ]
  },
  {
   "cell_type": "code",
   "execution_count": 17,
   "metadata": {},
   "outputs": [],
   "source": [
    "# create table and mapper\n",
    "Base.metadata.create_all(engine)"
   ]
  },
  {
   "cell_type": "code",
   "execution_count": 18,
   "metadata": {},
   "outputs": [
    {
     "data": {
      "text/plain": [
       "'Hello World!'"
      ]
     },
     "execution_count": 18,
     "metadata": {},
     "output_type": "execute_result"
    }
   ],
   "source": [
    "# insert data (but not saved yet)\n",
    "message = Message(message=\"Hello World!\")\n",
    "message.message"
   ]
  },
  {
   "cell_type": "code",
   "execution_count": 19,
   "metadata": {},
   "outputs": [],
   "source": [
    "# create a session to save something to the DB\n",
    "from sqlalchemy.orm import sessionmaker\n",
    "\n",
    "Session = sessionmaker(bind=engine)\n",
    "session = Session()\n",
    " "
   ]
  },
  {
   "cell_type": "code",
   "execution_count": 20,
   "metadata": {},
   "outputs": [],
   "source": [
    "# add data to the session and commit the changes\n",
    "session.add(message)\n",
    "session.commit()"
   ]
  },
  {
   "cell_type": "code",
   "execution_count": 21,
   "metadata": {},
   "outputs": [
    {
     "name": "stdout",
     "output_type": "stream",
     "text": [
      "Hello World!\n"
     ]
    }
   ],
   "source": [
    "# query the DB\n",
    "query = session.query(Message)\n",
    "instance = query.first()\n",
    "print (instance.message)"
   ]
  }
 ],
 "metadata": {
  "kernelspec": {
   "display_name": "Python [conda env:databases]",
   "language": "python",
   "name": "conda-env-databases-py"
  },
  "language_info": {
   "codemirror_mode": {
    "name": "ipython",
    "version": 3
   },
   "file_extension": ".py",
   "mimetype": "text/x-python",
   "name": "python",
   "nbconvert_exporter": "python",
   "pygments_lexer": "ipython3",
   "version": "3.7.3"
  }
 },
 "nbformat": 4,
 "nbformat_minor": 2
}
