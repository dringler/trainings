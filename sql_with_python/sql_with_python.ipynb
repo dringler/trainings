{
 "cells": [
  {
   "cell_type": "markdown",
   "metadata": {},
   "source": [
    "# The Python Database API Specification\n",
    "\n",
    "PEP 249 defines the Python Database API Specification v2.0: https://www.python.org/dev/peps/pep-0249/\n",
    "\n",
    "\n",
    "# Python SQLite\n",
    "\"SQLite is a C library that provides a lightweight disk-based database that doesn’t require a separate server process and allows accessing the database using a nonstandard variant of the SQL query language. Some applications can use SQLite for internal data storage. It’s also possible to prototype an application using SQLite and then port the code to a larger database such as PostgreSQL or Oracle.\n",
    "\n",
    "The sqlite3 module was written by Gerhard Häring. It provides a SQL interface compliant with the DB-API 2.0 specification described by PEP 249.\" https://docs.python.org/3/library/sqlite3.html\n",
    "The official SQLite documentation can be found at https://www.sqlite.org/index.html.\n",
    "\n",
    "A lightweight and platform-independent GUI tool for SQLite databsaes is the *DB Browser for SQLite* that can be downloaded at https://sqlitebrowser.org/.\n",
    "\n",
    "A great tutorial of how to get started with SQLite in Python can be found at https://github.com/rasbt/python_reference/tree/master/tutorials/sqlite3_howto.\n",
    "\n",
    "## Create / connect to a SQLite database\n",
    "\n",
    "```python\n",
    "import sqlite3\n",
    "\n",
    "# DB file\n",
    "sqlite_file = 'my_db.sqlite' \n",
    "\n",
    "# connect to the DB and create a cursor object\n",
    "conn = sqlite3.connect(sqlite_file)\n",
    "c = conn.cursor()\n",
    "\n",
    "# do DB operations here...\n",
    "\n",
    "# close the connection to the DB\n",
    "conn.close()\n",
    "```\n",
    "\n",
    "https://github.com/rasbt/python_reference/tree/master/tutorials/sqlite3_howto#connecting-to-an-sqlite-database\n",
    "\n",
    "## Create new tables\n",
    "\n",
    "```python\n",
    "import sqlite3\n",
    "\n",
    "sqlite_file = 'my_db.sqlite'\n",
    "table_name1 = 'my_table_1'\n",
    "table_name2 = 'my_table_2'\n",
    "column1 = 'my_1st_column'\n",
    "field_type = 'INTEGER'\n",
    "\n",
    "# Connecting to the database file\n",
    "conn = sqlite3.connect(sqlite_file)\n",
    "c = conn.cursor()\n",
    "\n",
    "# Creating a new SQLite table with 1 column\n",
    "c.execute('CREATE TABLE {tn} ({c1} {ft})'.format(tn=table_name1, c1=column1, ft=field_type))\n",
    "\n",
    "# Creating a second table with 1 column and set it as PRIMARY KEY\n",
    "# note that PRIMARY KEY column must consist of unique values!\n",
    "c.execute('CREATE TABLE {tn} ({c1} {ft} PRIMARY KEY)'.format(tn=table_name2, c1=column1, ft=field_type))\n",
    "\n",
    "# Committing changes and closing the connection to the database file\n",
    "conn.commit()\n",
    "conn.close()\n",
    "```\n",
    "\n",
    "https://github.com/rasbt/python_reference/tree/master/tutorials/sqlite3_howto#creating-a-new-sqlite-database\n",
    "\n",
    "## Adding new columns\n",
    "\n",
    "```python\n",
    "import sqlite3\n",
    "\n",
    "sqlite_file = 'my_db.sqlite'\n",
    "table_name = 'my_table_2'\n",
    "column2 = 'my_2nd_column'\n",
    "column3 = 'my_3nd_column'\n",
    "column_type = 'TEXT'\n",
    "default_val = 'Hello World'\n",
    "\n",
    "# Connecting to the database file\n",
    "conn = sqlite3.connect(sqlite_file)\n",
    "c = conn.cursor()\n",
    "\n",
    "# A) Adding a new column without a row value\n",
    "c.execute(\"ALTER TABLE {tn} ADD COLUMN '{c2}' {ct}\".format(tn=table_name, c2=column2, ct=column_type))\n",
    "\n",
    "# B) Adding a new column with a default row value\n",
    "c.execute(\"ALTER TABLE {tn} ADD COLUMN '{c3}' {ct} DEFAULT '{df}'\".format(tn=table_name, c3=column3, ct=column_type, df=default_val))\n",
    "\n",
    "# Committing changes and closing the connection to the database file\n",
    "conn.commit()\n",
    "conn.close()\n",
    "```\n",
    "\n",
    "https://github.com/rasbt/python_reference/tree/master/tutorials/sqlite3_howto#adding-new-columns\n",
    "\n",
    "## Insert or update data\n",
    "\n",
    "```python\n",
    "import sqlite3\n",
    "\n",
    "sqlite_file = 'my_db.sqlite'\n",
    "table_name = 'my_table_2'\n",
    "column1 = 'my_1st_column'\n",
    "column2 = 'my_2nd_column'\n",
    "\n",
    "# Connecting to the database file\n",
    "conn = sqlite3.connect(sqlite_file)\n",
    "c = conn.cursor()\n",
    "\n",
    "# A) Inserts an ID with a specific value in a second column \n",
    "try:\n",
    "    c.execute(\"INSERT INTO {tn} ({c1}, {c2}) VALUES (123456, 'test')\".format(tn=table_name, c1=column1, c2=column2))\n",
    "except sqlite3.IntegrityError:\n",
    "    print('ERROR: ID already exists in PRIMARY KEY column {}'.format(column1))\n",
    "\n",
    "# B) Tries to insert an ID (if it does not exist yet)\n",
    "# with a specific value in a second column \n",
    "c.execute(\"INSERT OR IGNORE INTO {tn} ({c1}, {c2}) VALUES (123456, 'test')\".format(tn=table_name, c1=column1, c2=column2))\n",
    "\n",
    "# C) Updates the newly inserted or pre-existing entry            \n",
    "c.execute(\"UPDATE {tn} SET {c2}=('Hi World') WHERE {c1}=(123456)\".format(tn=table_name, c2=column2, c1=column1))\n",
    "\n",
    "conn.commit()\n",
    "conn.close()\n",
    "```\n",
    "\n",
    "https://github.com/rasbt/python_reference/tree/master/tutorials/sqlite3_howto#inserting-and-updating-rows\n",
    "\n",
    "## Query data\n",
    "\n",
    "```python\n",
    "import sqlite3\n",
    "\n",
    "sqlite_file = 'my_db.sqlite'\n",
    "table_name = 'my_table_2'\n",
    "column1 = 'my_1st_column'\n",
    "some_id = 123456\n",
    "column2 = 'my_2nd_column'\n",
    "\n",
    "# Connecting to the database file\n",
    "conn = sqlite3.connect(sqlite_file)\n",
    "c = conn.cursor()\n",
    "\n",
    "# 1) Contents of all columns for row that match a certain value in 1 column\n",
    "c.execute('SELECT * FROM {tn} WHERE {c2}=\"Hi World\"'.format(tn=table_name, c2=column2))\n",
    "all_rows = c.fetchall()\n",
    "print('1):', all_rows)\n",
    "\n",
    "# 2) Value of a particular column for rows that match a certain value in column2 \n",
    "c.execute('SELECT ({coi}) FROM {tn} WHERE {c2}=\"Hi World\"'.format(coi=column2, tn=table_name, c2=column2))\n",
    "all_rows = c.fetchall()\n",
    "print('2):', all_rows)\n",
    "\n",
    "# 3) Value of 2 particular columns for rows that match a certain value in 1 column\n",
    "c.execute('SELECT {c2},{c1} FROM {tn} WHERE {c2}=\"Hi World\"'.format(c2=column2, c1=column1, tn=table_name))\n",
    "all_rows = c.fetchall()\n",
    "print('3):', all_rows)\n",
    "\n",
    "# 4) Selecting only up to 10 rows that match a certain value in 1 column\n",
    "c.execute('SELECT * FROM {tn} WHERE {c2}=\"Hi World\" LIMIT 10'.format(tn=table_name, c2=column2))\n",
    "ten_rows = c.fetchall()\n",
    "print('4):', ten_rows)\n",
    "\n",
    "# 5) Check if a certain ID exists and print its column contents\n",
    "c.execute(\"SELECT * FROM {tn} WHERE {c1}={my_id}\".format(tn=table_name, c1=column1, my_id=some_id))\n",
    "id_exists = c.fetchone()\n",
    "if id_exists:\n",
    "    print('5): {}'.format(id_exists))\n",
    "else:\n",
    "    print('5): {} does not exist'.format(some_id))\n",
    "\n",
    "# Closing the connection to the database file\n",
    "conn.close()\n",
    "```\n",
    "\n",
    "https://github.com/rasbt/python_reference/tree/master/tutorials/sqlite3_howto#querying-the-database---selecting-rows\n",
    "\n",
    "## Data types in SQLite\n",
    "\n",
    "SQLite natively supports the following types: ```NULL, INTEGER, REAL, TEXT, BLOB```.\n",
    "\n",
    "Sending Python types to SQLite:\n",
    "\n",
    "| Python type | SQLite type |\n",
    "|:------------|-------------|\n",
    "| None        | NULL        |\n",
    "| int         | INTEGER     |\n",
    "| float       | REAL        |\n",
    "| str         | TEXT        |\n",
    "| bytes       | BLOB        |\n",
    "\n",
    "Converting SQLite types to Python types:\n",
    "\n",
    "| SQLite type | Python type                                         |\n",
    "|:------------|-----------------------------------------------------|\n",
    "| NULL        | None                                                |\n",
    "| INTEGER     | int                                                 |\n",
    "| REAL        | float                                               |\n",
    "| TEXT        | depends on ```test_factory```, ```str``` by default |\n",
    "| BLOB        | bytes                                               |\n",
    "\n",
    "\n",
    "https://docs.python.org/3/library/sqlite3.html#introduction\n",
    "\n",
    "https://www.sqlite.org/datatype3.html\n",
    "\n",
    "## Adapters and Converters\n",
    "\n",
    "\"The type system of the sqlite3 module is extensible in two ways: you can store additional Python types in a SQLite database via **object adaptation**, and you can let the sqlite3 module convert SQLite types to different Python types via **converters**.\" https://docs.python.org/3/library/sqlite3.html#introduction\n",
    "\n",
    "\n",
    "https://docs.python.org/3/library/sqlite3.html#using-adapters-to-store-additional-python-types-in-sqlite-databases describes how to store additional Python types in SQLite and https://docs.python.org/3/library/sqlite3.html#converting-sqlite-values-to-custom-python-types explains how to convert SQLite values to custom Python types."
   ]
  },
  {
   "cell_type": "markdown",
   "metadata": {},
   "source": [
    "# SQLite Exercise"
   ]
  },
  {
   "cell_type": "code",
   "execution_count": 4,
   "metadata": {},
   "outputs": [],
   "source": [
    "# Creating a new SQLite database\n",
    "\n",
    "import sqlite3\n",
    "conn = sqlite3.connect('my_db.sqlite')\n",
    "c = conn.cursor()"
   ]
  },
  {
   "cell_type": "code",
   "execution_count": 5,
   "metadata": {},
   "outputs": [],
   "source": [
    "table_name1 = 'my_table_1'\n",
    "table_name2 = 'my_table_2'\n",
    "column1 = 'my_1st_column'\n",
    "field_type = 'INTEGER'\n",
    "\n",
    "# Creating a new SQLite table with 1 column\n",
    "# Creating a second table with 1 column and set it as PRIMARY KEY\n",
    "# note that PRIMARY KEY column must consist of unique values!\n",
    "c.execute('CREATE TABLE {tn} ({c1} {ft} PRIMARY KEY)'.format(tn=table_name2, c1=column1, ft=field_type))\n",
    "\n",
    "# Committing changes and closing the connection to the database file\n",
    "conn.commit()\n"
   ]
  },
  {
   "cell_type": "code",
   "execution_count": 6,
   "metadata": {},
   "outputs": [],
   "source": [
    "# Adding new columns\n",
    "table_name = 'my_table_2'\n",
    "id_column = 'my_1st_column'\n",
    "column2 = 'my_2nd_column'\n",
    "column3 = 'my_3nd_column'\n",
    "column_type = 'TEXT'\n",
    "default_val = 'Hello World'\n",
    "\n",
    "# A) Adding a new column without a row value\n",
    "c.execute(\"ALTER TABLE {tn} ADD COLUMN '{c2}' {ct}\".format(tn=table_name, c2=column2, ct=column_type))\n",
    "\n",
    "# B) Adding a new column with a default row value\n",
    "c.execute(\"ALTER TABLE {tn} ADD COLUMN '{c3}' {ct} DEFAULT '{df}'\".format(tn=table_name, c3=column3, ct=column_type, df=default_val))\n",
    "\n",
    "# Committing changes and closing the connection to the database file\n",
    "conn.commit()\n"
   ]
  },
  {
   "cell_type": "code",
   "execution_count": 7,
   "metadata": {},
   "outputs": [],
   "source": [
    "# Inserting and updating rows\n",
    "table_name = 'my_table_2'\n",
    "column1 = 'my_1st_column'\n",
    "column2 = 'my_2nd_column'\n",
    "\n",
    "# A) Inserts an ID with a specific value in a second column \n",
    "try:\n",
    "    c.execute(\"INSERT INTO {tn} ({c1}, {c2}) VALUES (123456, 'test')\".format(tn=table_name, c1=column1, c2=column2))\n",
    "except sqlite3.IntegrityError:\n",
    "    print('ERROR: ID already exists in PRIMARY KEY column {}'.format(id_column))\n",
    "\n",
    "# B) Tries to insert an ID (if it does not exist yet)\n",
    "# with a specific value in a second column \n",
    "c.execute(\"INSERT OR IGNORE INTO {tn} ({c1}, {c2}) VALUES (123456, 'test')\".format(tn=table_name, c1=column1, c2=column2))\n",
    "\n",
    "# C) Updates the newly inserted or pre-existing entry            \n",
    "c.execute(\"UPDATE {tn} SET {c2}=('Hi World') WHERE {c1}=(123456)\".format(tn=table_name, c2=column2, c1=column1))\n",
    "\n",
    "conn.commit()"
   ]
  },
  {
   "cell_type": "code",
   "execution_count": 8,
   "metadata": {},
   "outputs": [],
   "source": [
    "# close the DB connection\n",
    "conn.close()"
   ]
  },
  {
   "cell_type": "markdown",
   "metadata": {},
   "source": [
    "# European Election 2019 Exercise\n",
    "* Import the \"eu2019.csv\" file into your SQLite database.\n",
    "* Check the data types. Are the data types correct? If not, change them.\n",
    "* Check the column names. Rename them to something easy to write queries for (remove whitespace, special characters etc.)\n",
    "* Are there missing values in the data? What do the missing values indicate? Think about the consequences for calculating some measures such as counting the total number of votes for a party.\n",
    "* How many different parties are part of the data? Is there a special case in the data (tip: count the number of Kreis Nr. per party)?\n",
    "* Which city district (Kreis) is the biggest and which is the smallest based on the number of votes?\n",
    "* Which party got the most number of votes in the city districts? Which district is it?\n",
    "* Filter the data for the states (Bundesländer) and get the top 3 parties based on the percentage of votes. How much are the percentages?\n",
    "* Sum the 'Gültige Stimmen %' column for\n",
    "  * Bundesrepublik Deutschland\n",
    "  * the states (Bundesländer)\n",
    "  * the city districts (Kreis) by 'Kreis Nr.' or 'Gebietsbezeichnung' columns  \n",
    "  Explain the results. Do all add up to ~100%? Why does the group by column 'Kreis Nr.' and 'Gebietsbezeichnung' produce different results for the city districts?"
   ]
  },
  {
   "cell_type": "markdown",
   "metadata": {},
   "source": [
    "# Python and MySQL (MySQLdb)\n",
    "\n",
    "\"MySQLdb is an interface for connecting to a MySQL database server from Python. It implements the Python Database API v2.0 and is built on top of the MySQL C API.\"\n",
    "\n",
    "https://www.tutorialspoint.com/python/python_database_access.htm\n",
    "\n",
    "# Python and Oracle\n",
    "\n",
    "A turorial of how to use Python With Oracle Database 11g can be found at https://www.oracle.com/webfolder/technetwork/tutorials/obe/db/OOW11/python_db/python_db.htm.\n",
    "\n",
    "# Python and ODBC\n",
    "\n",
    "\"In computing, Open Database Connectivity (ODBC) is a standard application programming interface (API) for accessing database management systems (DBMS). The designers of ODBC aimed to make it independent of database systems and operating systems. An application written using ODBC can be ported to other platforms, both on the client and server side, with few changes to the data access code.\" https://en.wikipedia.org/wiki/Open_Database_Connectivity\n",
    "\n",
    "\"pyodbc is an open source Python module that makes accessing ODBC databases simple. It implements the DB API 2.0 specification but is packed with even more Pythonic convenience.\" https://github.com/mkleehammer/pyodbc\n",
    "\n",
    "The wiki at https://github.com/mkleehammer/pyodbc/wiki provides documentation for using pyodbc.\n",
    "\n",
    "# Python Object Databases (ZODB-Zope Object Database) \n",
    "\n",
    "An introduction to ZODB can be found at http://www.zodb.org/en/latest/articles/ZODB1.html.\n",
    "\n",
    "## Install ZODB\n",
    "A tutorial of how to install ZODB can be found at http://www.zodb.org/en/latest/tutorial.html#installation.\n",
    "\n",
    "```bash\n",
    "$ conda install zodb```\n",
    "\n",
    "## ACID standards in ZODB\n",
    "* **Atomicity:** \"means that any changes to data made during a transaction are all-or-nothing. Either all the changes are applied, or none of them are. If a program makes a bunch of modifications and then crashes, the database won’t be partially modified, potentially leaving the data in an inconsistent state; instead all the changes will be forgotten. That’s bad, but it’s better than having a partially- applied modification put the database into an inconsistent state.\"\n",
    "* **Consistency:** \"means that each transaction executes a valid transformation of the database state. Some databases, but not ZODB, provide a variety of consistency checks in the database or language; for example, a relational database constraint columns to be of particular types and can enforce relations across tables. Viewed more generally, atomicity and isolation make it possible for applications to provide consistency.\"\n",
    "* **Isolation:** \"means that two programs or threads running in two different transactions cannot see each other’s changes until they commit their transactions.\"\n",
    "* **Durability:** \"means that once a transaction has been committed, a subsequent crash will not cause any data to be lost or corrupted.\"\n",
    "\n",
    "http://www.zodb.org/en/latest/articles/old-guide/prog-zodb.html\n",
    "\n",
    "\n",
    "## Getting started with ZODB\n",
    "A tutorial of how to get started with ZODB and understanding the main concepts can be found at http://www.zodb.org/en/latest/tutorial.html#tutorial-label.\n",
    "\n",
    "\n",
    "create storage and use the ‘mydatabse.fs’ file to store the object information. Then, you create a database that uses that storage.\n",
    "\n",
    "Next, the database needs to be “opened” by calling the ‘open()’ method. This will return a connection object to the database. The connection object then gives you access to the ‘root’ of the database with the ‘root()’ method.\n",
    "\n",
    "The ‘root’ object is the dictionary that holds all of your persistent objects. For example, you can store a simple list of strings in the root object:\n",
    "\n",
    "```python\n",
    "from ZODB import FileStorage, DB\n",
    "# create storage\n",
    "storage = FileStorage.FileStorage('mydatabase.fs')\n",
    "# create a database using the storage\n",
    "db = DB(storage)\n",
    "# connect to the database\n",
    "connection = db.open()\n",
    "# access the root object\n",
    "root = connection.root()\n",
    "```\n",
    "\n",
    "```python\n",
    "# store a list of strings in the root object \n",
    "root['employees'] = ['Mary', 'Jo', 'Bob']\n",
    "```\n",
    "\n",
    "```python\n",
    "import transaction\n",
    "# commit the transaction\n",
    "transaction.commit()\n",
    "```\n",
    "\n",
    "```python\n",
    "# access the items of the root object\n",
    "root.items()\n",
    "[('employees', ['Mary', 'Jo', 'Bob'])]\n",
    "```\n",
    "\n",
    "```python\n",
    "# close the connection\n",
    "connection.close()\n",
    "```\n",
    "\n",
    "\n",
    "## Rules of Persistence\n",
    "\"When implementing persistent objects, be aware that an object’s attributes should be :\n",
    "* immutable (such as strings or integers),\n",
    "* persistent (subclass Persistent), or\n",
    "* You need to take special precautions.\"\n",
    "\n",
    "http://www.zodb.org/en/latest/guide/writing-persistent-objects.html#rules-of-persistence"
   ]
  },
  {
   "cell_type": "markdown",
   "metadata": {},
   "source": [
    "# ZODB Exercise"
   ]
  },
  {
   "cell_type": "code",
   "execution_count": 1,
   "metadata": {},
   "outputs": [],
   "source": [
    "from ZODB import FileStorage, DB\n",
    "# create storage\n",
    "storage = FileStorage.FileStorage('mydatabase.fs')\n",
    "# create a database using the storage\n",
    "db = DB(storage)\n",
    "# connect to the database\n",
    "connection = db.open()\n",
    "# access the root object\n",
    "root = connection.root()"
   ]
  },
  {
   "cell_type": "code",
   "execution_count": 2,
   "metadata": {},
   "outputs": [],
   "source": [
    "# store a list of strings in the root object \n",
    "root['employees'] = ['Mary', 'Jo', 'Bob']"
   ]
  },
  {
   "cell_type": "code",
   "execution_count": 3,
   "metadata": {},
   "outputs": [],
   "source": [
    "import transaction\n",
    "# commit the transaction\n",
    "transaction.commit()"
   ]
  },
  {
   "cell_type": "code",
   "execution_count": 4,
   "metadata": {},
   "outputs": [
    {
     "data": {
      "text/plain": [
       "[('employees', ['Mary', 'Jo', 'Bob'])]"
      ]
     },
     "execution_count": 4,
     "metadata": {},
     "output_type": "execute_result"
    }
   ],
   "source": [
    "# access the items of the root object\n",
    "root.items()\n",
    "[('employees', ['Mary', 'Jo', 'Bob'])]"
   ]
  },
  {
   "cell_type": "code",
   "execution_count": 5,
   "metadata": {},
   "outputs": [],
   "source": [
    "# close the connection\n",
    "connection.close()"
   ]
  },
  {
   "cell_type": "markdown",
   "metadata": {},
   "source": [
    "# SQLAlchemy\n",
    "\"SQLAlchemy is the Python SQL toolkit and Object Relational Mapper that gives application developers the full power and flexibility of SQL.\n",
    "\n",
    "It provides a full suite of well known enterprise-level persistence patterns, designed for efficient and high-performing database access, adapted into a simple and Pythonic domain language.\"\n",
    "\n",
    "* Python SQL Toolkit (Core): pythonic way to generate SQL queries\n",
    "* Object Relational Mapper (ORM): DB relations as Python objects\n",
    "\n",
    "\n",
    "https://www.sqlalchemy.org/\n",
    "\n",
    "```bash\n",
    "$ conda install sqlalchemy\n",
    "```"
   ]
  },
  {
   "cell_type": "code",
   "execution_count": 9,
   "metadata": {},
   "outputs": [
    {
     "data": {
      "text/plain": [
       "'1.3.4'"
      ]
     },
     "execution_count": 9,
     "metadata": {},
     "output_type": "execute_result"
    }
   ],
   "source": [
    "import sqlalchemy\n",
    "sqlalchemy.__version__"
   ]
  },
  {
   "cell_type": "markdown",
   "metadata": {},
   "source": [
    "## SQLAlchemy Core Example"
   ]
  },
  {
   "cell_type": "code",
   "execution_count": 10,
   "metadata": {},
   "outputs": [],
   "source": [
    "from sqlalchemy import create_engine\n",
    "\n",
    "engine = create_engine('sqlite://')"
   ]
  },
  {
   "cell_type": "code",
   "execution_count": 11,
   "metadata": {},
   "outputs": [],
   "source": [
    "from sqlalchemy import Column, Integer, Text, MetaData, Table\n",
    "\n",
    "metadata = MetaData()\n",
    "messages = Table(\n",
    "    'messages', metadata,\n",
    "    Column('id', Integer, primary_key=True),\n",
    "    Column('message', Text),\n",
    ")\n",
    "\n",
    "messages.create(bind=engine)\n",
    " "
   ]
  },
  {
   "cell_type": "code",
   "execution_count": 12,
   "metadata": {},
   "outputs": [
    {
     "data": {
      "text/plain": [
       "<sqlalchemy.engine.result.ResultProxy at 0x7f57f40ccb38>"
      ]
     },
     "execution_count": 12,
     "metadata": {},
     "output_type": "execute_result"
    }
   ],
   "source": [
    "insert_message = messages.insert().values(message='Hello, World!')\n",
    "engine.execute(insert_message)"
   ]
  },
  {
   "cell_type": "code",
   "execution_count": 13,
   "metadata": {},
   "outputs": [
    {
     "name": "stdout",
     "output_type": "stream",
     "text": [
      "Hello, World!\n"
     ]
    }
   ],
   "source": [
    "from sqlalchemy import select\n",
    "stmt = select([messages.c.message]) \n",
    "message, = engine.execute(stmt).fetchone()\n",
    "print(message)\n",
    " "
   ]
  },
  {
   "cell_type": "markdown",
   "metadata": {},
   "source": [
    "## SQLAlchemy ORM Example"
   ]
  },
  {
   "cell_type": "code",
   "execution_count": 14,
   "metadata": {},
   "outputs": [],
   "source": [
    "from sqlalchemy import create_engine\n",
    "\n",
    "engine = create_engine('sqlite://')\n",
    " "
   ]
  },
  {
   "cell_type": "code",
   "execution_count": 15,
   "metadata": {},
   "outputs": [],
   "source": [
    "from sqlalchemy.ext.declarative import declarative_base\n",
    "# define declarative to map classes and tables\n",
    "Base = declarative_base()"
   ]
  },
  {
   "cell_type": "code",
   "execution_count": 16,
   "metadata": {},
   "outputs": [],
   "source": [
    "from sqlalchemy import Column, Integer, String\n",
    "\n",
    "class Message(Base):\n",
    "    __tablename__ = 'messages'\n",
    "    \n",
    "    id = Column(Integer, primary_key=True)\n",
    "    message = Column(String)\n",
    " "
   ]
  },
  {
   "cell_type": "code",
   "execution_count": 17,
   "metadata": {},
   "outputs": [],
   "source": [
    "# create table and mapper\n",
    "Base.metadata.create_all(engine)"
   ]
  },
  {
   "cell_type": "code",
   "execution_count": 18,
   "metadata": {},
   "outputs": [
    {
     "data": {
      "text/plain": [
       "'Hello World!'"
      ]
     },
     "execution_count": 18,
     "metadata": {},
     "output_type": "execute_result"
    }
   ],
   "source": [
    "# insert data (but not saved yet)\n",
    "message = Message(message=\"Hello World!\")\n",
    "message.message"
   ]
  },
  {
   "cell_type": "code",
   "execution_count": 19,
   "metadata": {},
   "outputs": [],
   "source": [
    "# create a session to save something to the DB\n",
    "from sqlalchemy.orm import sessionmaker\n",
    "\n",
    "Session = sessionmaker(bind=engine)\n",
    "session = Session()\n",
    " "
   ]
  },
  {
   "cell_type": "code",
   "execution_count": 20,
   "metadata": {},
   "outputs": [],
   "source": [
    "# add data to the session and commit the changes\n",
    "session.add(message)\n",
    "session.commit()"
   ]
  },
  {
   "cell_type": "code",
   "execution_count": 21,
   "metadata": {},
   "outputs": [
    {
     "name": "stdout",
     "output_type": "stream",
     "text": [
      "Hello World!\n"
     ]
    }
   ],
   "source": [
    "# query the DB\n",
    "query = session.query(Message)\n",
    "instance = query.first()\n",
    "print (instance.message)"
   ]
  }
 ],
 "metadata": {
  "kernelspec": {
   "display_name": "Python [conda env:databases]",
   "language": "python",
   "name": "conda-env-databases-py"
  },
  "language_info": {
   "codemirror_mode": {
    "name": "ipython",
    "version": 3
   },
   "file_extension": ".py",
   "mimetype": "text/x-python",
   "name": "python",
   "nbconvert_exporter": "python",
   "pygments_lexer": "ipython3",
   "version": "3.7.3"
  }
 },
 "nbformat": 4,
 "nbformat_minor": 2
}
